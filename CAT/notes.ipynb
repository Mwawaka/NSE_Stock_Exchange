{
 "cells": [
  {
   "cell_type": "markdown",
   "source": [
    "# Pandas Functions\n",
    "\n",
    "## .describe() \n",
    "generates descriptive statistics. Descriptive statistics include those that summarize the central tendency, dispersion, and shape of a dataset’s distribution, excluding NaN values.\n",
    "Analyzes both numeric and object series, as well as DataFrame column sets of mixed data types. The output will vary depending on what is provided. \n",
    "\n",
    "## .info()\n",
    " method prints information about a DataFrame including the index dtype and columns, non-null values, and memory usage.\n",
    " \n",
    "## .T\n",
    ".T attribute is used to transpose the DataFrame. Transposing a DataFrame means swapping its rows and columns. When you call .T on a DataFrame, it returns a new DataFrame where the rows of the original DataFrame become columns, and vice versa.\n",
    "\n",
    "## .isna() \n",
    "function in pandas is used to check for missing or NaN (Not a Number) values in a DataFrame. It returns a DataFrame of the same shape as the input DataFrame (df), where each element is a boolean value indicating whether the corresponding element in the original DataFrame is NaN.\n",
    "\n",
    "## .sum(axis = 1)\n",
    " function in pandas is used to sum the values along a specific axis in a DataFrame. When applied to a DataFrame, it calculates the sum of values for each column (default behavior) or each row, depending on the specified axis( 1) \n",
    "## .unique() \n",
    "function in pandas is used to get the unique values in a Series. It returns an array of unique elements in the order they were observed."
   ],
   "metadata": {
    "collapsed": false
   },
   "id": "a78f42e10a2a1e4b"
  },
  {
   "cell_type": "markdown",
   "source": [
    "\n",
    "\n"
   ],
   "metadata": {
    "collapsed": false
   },
   "id": "28902f7aa7ea3aba"
  }
 ],
 "metadata": {
  "kernelspec": {
   "display_name": "Python 3",
   "language": "python",
   "name": "python3"
  },
  "language_info": {
   "codemirror_mode": {
    "name": "ipython",
    "version": 2
   },
   "file_extension": ".py",
   "mimetype": "text/x-python",
   "name": "python",
   "nbconvert_exporter": "python",
   "pygments_lexer": "ipython2",
   "version": "2.7.6"
  }
 },
 "nbformat": 4,
 "nbformat_minor": 5
}
