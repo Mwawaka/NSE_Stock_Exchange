{
 "cells": [
  {
   "cell_type": "code",
   "execution_count": 2,
   "id": "initial_id",
   "metadata": {
    "collapsed": true,
    "ExecuteTime": {
     "end_time": "2023-10-03T11:18:18.118907686Z",
     "start_time": "2023-10-03T11:18:15.388931781Z"
    }
   },
   "outputs": [],
   "source": [
    "from sklearn import linear_model\n",
    "import pandas as pd\n",
    "import numpy as np\n"
   ]
  },
  {
   "cell_type": "code",
   "execution_count": 3,
   "outputs": [],
   "source": [
    "df = pd.read_csv('./data/train_u6lujuX_CVtuZ9i.csv')"
   ],
   "metadata": {
    "collapsed": false,
    "ExecuteTime": {
     "end_time": "2023-10-03T11:18:20.944428025Z",
     "start_time": "2023-10-03T11:18:20.849690057Z"
    }
   },
   "id": "4b9dc17e3f381992"
  },
  {
   "cell_type": "code",
   "execution_count": 7,
   "outputs": [
    {
     "data": {
      "text/plain": "  Gender Married Dependents     Education Self_Employed  ApplicantIncome  \\\n0   Male      No          0      Graduate            No             5849   \n1   Male     Yes          1      Graduate            No             4583   \n2   Male     Yes          0      Graduate           Yes             3000   \n3   Male     Yes          0  Not Graduate            No             2583   \n4   Male      No          0      Graduate            No             6000   \n\n   CoapplicantIncome  LoanAmount  Loan_Amount_Term  Credit_History  \\\n0                0.0         NaN             360.0             1.0   \n1             1508.0       128.0             360.0             1.0   \n2                0.0        66.0             360.0             1.0   \n3             2358.0       120.0             360.0             1.0   \n4                0.0       141.0             360.0             1.0   \n\n  Property_Area Loan_Status  \n0         Urban           Y  \n1         Rural           N  \n2         Urban           Y  \n3         Urban           Y  \n4         Urban           Y  ",
      "text/html": "<div>\n<style scoped>\n    .dataframe tbody tr th:only-of-type {\n        vertical-align: middle;\n    }\n\n    .dataframe tbody tr th {\n        vertical-align: top;\n    }\n\n    .dataframe thead th {\n        text-align: right;\n    }\n</style>\n<table border=\"1\" class=\"dataframe\">\n  <thead>\n    <tr style=\"text-align: right;\">\n      <th></th>\n      <th>Gender</th>\n      <th>Married</th>\n      <th>Dependents</th>\n      <th>Education</th>\n      <th>Self_Employed</th>\n      <th>ApplicantIncome</th>\n      <th>CoapplicantIncome</th>\n      <th>LoanAmount</th>\n      <th>Loan_Amount_Term</th>\n      <th>Credit_History</th>\n      <th>Property_Area</th>\n      <th>Loan_Status</th>\n    </tr>\n  </thead>\n  <tbody>\n    <tr>\n      <th>0</th>\n      <td>Male</td>\n      <td>No</td>\n      <td>0</td>\n      <td>Graduate</td>\n      <td>No</td>\n      <td>5849</td>\n      <td>0.0</td>\n      <td>NaN</td>\n      <td>360.0</td>\n      <td>1.0</td>\n      <td>Urban</td>\n      <td>Y</td>\n    </tr>\n    <tr>\n      <th>1</th>\n      <td>Male</td>\n      <td>Yes</td>\n      <td>1</td>\n      <td>Graduate</td>\n      <td>No</td>\n      <td>4583</td>\n      <td>1508.0</td>\n      <td>128.0</td>\n      <td>360.0</td>\n      <td>1.0</td>\n      <td>Rural</td>\n      <td>N</td>\n    </tr>\n    <tr>\n      <th>2</th>\n      <td>Male</td>\n      <td>Yes</td>\n      <td>0</td>\n      <td>Graduate</td>\n      <td>Yes</td>\n      <td>3000</td>\n      <td>0.0</td>\n      <td>66.0</td>\n      <td>360.0</td>\n      <td>1.0</td>\n      <td>Urban</td>\n      <td>Y</td>\n    </tr>\n    <tr>\n      <th>3</th>\n      <td>Male</td>\n      <td>Yes</td>\n      <td>0</td>\n      <td>Not Graduate</td>\n      <td>No</td>\n      <td>2583</td>\n      <td>2358.0</td>\n      <td>120.0</td>\n      <td>360.0</td>\n      <td>1.0</td>\n      <td>Urban</td>\n      <td>Y</td>\n    </tr>\n    <tr>\n      <th>4</th>\n      <td>Male</td>\n      <td>No</td>\n      <td>0</td>\n      <td>Graduate</td>\n      <td>No</td>\n      <td>6000</td>\n      <td>0.0</td>\n      <td>141.0</td>\n      <td>360.0</td>\n      <td>1.0</td>\n      <td>Urban</td>\n      <td>Y</td>\n    </tr>\n  </tbody>\n</table>\n</div>"
     },
     "execution_count": 7,
     "metadata": {},
     "output_type": "execute_result"
    }
   ],
   "source": [
    "df.head()"
   ],
   "metadata": {
    "collapsed": false,
    "ExecuteTime": {
     "end_time": "2023-10-03T11:20:15.571748801Z",
     "start_time": "2023-10-03T11:20:15.531368628Z"
    }
   },
   "id": "86fa6ddc00762573"
  },
  {
   "cell_type": "code",
   "execution_count": 6,
   "outputs": [],
   "source": [
    "#Dropped the column because has no use\n",
    "df.drop(columns = ['Loan_ID'],inplace=True)"
   ],
   "metadata": {
    "collapsed": false,
    "ExecuteTime": {
     "end_time": "2023-10-03T11:20:10.857694634Z",
     "start_time": "2023-10-03T11:20:10.796019799Z"
    }
   },
   "id": "f0362fc2d3c14ef6"
  },
  {
   "cell_type": "code",
   "execution_count": 21,
   "outputs": [],
   "source": [
    "# drops all instances with NaN values\n",
    "df.dropna(inplace=True)\n"
   ],
   "metadata": {
    "collapsed": false,
    "ExecuteTime": {
     "end_time": "2023-10-03T11:27:39.079416352Z",
     "start_time": "2023-10-03T11:27:39.065245618Z"
    }
   },
   "id": "89b29f83b3ed136e"
  },
  {
   "cell_type": "code",
   "execution_count": 34,
   "outputs": [
    {
     "data": {
      "text/plain": "    Gender Married Dependents     Education Self_Employed  ApplicantIncome  \\\n85    Male      No          0      Graduate            No             2366   \n352   Male     Yes          3      Graduate            No             2666   \n343   Male     Yes          3  Not Graduate            No             3173   \n20    Male     Yes          0  Not Graduate            No             7660   \n372   Male     Yes          2      Graduate           Yes             9323   \n\n     CoapplicantIncome  LoanAmount  Loan_Amount_Term  Credit_History  \\\n85              2531.0       136.0             360.0             1.0   \n352             2083.0        95.0             360.0             1.0   \n343                0.0        74.0             360.0             1.0   \n20                 0.0       104.0             360.0             0.0   \n372             7873.0       380.0             300.0             1.0   \n\n    Property_Area Loan_Status  \n85      Semiurban           Y  \n352         Rural           Y  \n343     Semiurban           Y  \n20          Urban           N  \n372         Rural           Y  ",
      "text/html": "<div>\n<style scoped>\n    .dataframe tbody tr th:only-of-type {\n        vertical-align: middle;\n    }\n\n    .dataframe tbody tr th {\n        vertical-align: top;\n    }\n\n    .dataframe thead th {\n        text-align: right;\n    }\n</style>\n<table border=\"1\" class=\"dataframe\">\n  <thead>\n    <tr style=\"text-align: right;\">\n      <th></th>\n      <th>Gender</th>\n      <th>Married</th>\n      <th>Dependents</th>\n      <th>Education</th>\n      <th>Self_Employed</th>\n      <th>ApplicantIncome</th>\n      <th>CoapplicantIncome</th>\n      <th>LoanAmount</th>\n      <th>Loan_Amount_Term</th>\n      <th>Credit_History</th>\n      <th>Property_Area</th>\n      <th>Loan_Status</th>\n    </tr>\n  </thead>\n  <tbody>\n    <tr>\n      <th>85</th>\n      <td>Male</td>\n      <td>No</td>\n      <td>0</td>\n      <td>Graduate</td>\n      <td>No</td>\n      <td>2366</td>\n      <td>2531.0</td>\n      <td>136.0</td>\n      <td>360.0</td>\n      <td>1.0</td>\n      <td>Semiurban</td>\n      <td>Y</td>\n    </tr>\n    <tr>\n      <th>352</th>\n      <td>Male</td>\n      <td>Yes</td>\n      <td>3</td>\n      <td>Graduate</td>\n      <td>No</td>\n      <td>2666</td>\n      <td>2083.0</td>\n      <td>95.0</td>\n      <td>360.0</td>\n      <td>1.0</td>\n      <td>Rural</td>\n      <td>Y</td>\n    </tr>\n    <tr>\n      <th>343</th>\n      <td>Male</td>\n      <td>Yes</td>\n      <td>3</td>\n      <td>Not Graduate</td>\n      <td>No</td>\n      <td>3173</td>\n      <td>0.0</td>\n      <td>74.0</td>\n      <td>360.0</td>\n      <td>1.0</td>\n      <td>Semiurban</td>\n      <td>Y</td>\n    </tr>\n    <tr>\n      <th>20</th>\n      <td>Male</td>\n      <td>Yes</td>\n      <td>0</td>\n      <td>Not Graduate</td>\n      <td>No</td>\n      <td>7660</td>\n      <td>0.0</td>\n      <td>104.0</td>\n      <td>360.0</td>\n      <td>0.0</td>\n      <td>Urban</td>\n      <td>N</td>\n    </tr>\n    <tr>\n      <th>372</th>\n      <td>Male</td>\n      <td>Yes</td>\n      <td>2</td>\n      <td>Graduate</td>\n      <td>Yes</td>\n      <td>9323</td>\n      <td>7873.0</td>\n      <td>380.0</td>\n      <td>300.0</td>\n      <td>1.0</td>\n      <td>Rural</td>\n      <td>Y</td>\n    </tr>\n  </tbody>\n</table>\n</div>"
     },
     "execution_count": 34,
     "metadata": {},
     "output_type": "execute_result"
    }
   ],
   "source": [
    "# Removes the + sign \n",
    "df['Dependents']=df['Dependents'].str.replace('+','')\n",
    "df.sample(5)"
   ],
   "metadata": {
    "collapsed": false,
    "ExecuteTime": {
     "end_time": "2023-10-03T11:40:20.943316409Z",
     "start_time": "2023-10-03T11:40:20.897100953Z"
    }
   },
   "id": "ec44d95d7ec882b3"
  },
  {
   "cell_type": "code",
   "execution_count": 35,
   "outputs": [],
   "source": [
    "#Changing categorical data to numerical values / Can also use LabelEncoder\n",
    "gender_mapping = {\n",
    "    'Male':0,\n",
    "    'Female':1\n",
    "}\n",
    "\n",
    "married_mapping ={\n",
    "    'No':0,\n",
    "    'Yes':1\n",
    "}\n",
    "education_mapping = {\n",
    "    'Graduate':1,\n",
    "    'Not Graduate':0\n",
    "}\n",
    "property_mapping = {\n",
    "    'Rural':0,\n",
    "    'Semiurban':1,\n",
    "    'Urban':2\n",
    "}\n",
    "loan_mapping={\n",
    "    'No':0,\n",
    "    'Y':1\n",
    "}\n",
    "# Some type of encoding\n",
    "df['Gender']=df['Gender'].replace(gender_mapping)\n",
    "df['Married']=df['Married'].replace(married_mapping)\n",
    "df['Education']=df['Education'].replace(education_mapping)\n",
    "df['Property_Area']=df['Property_Area'].replace(property_mapping)\n",
    "df['Loan_Status']=df['Loan_Status'].replace(loan_mapping)"
   ],
   "metadata": {
    "collapsed": false,
    "ExecuteTime": {
     "end_time": "2023-10-03T11:48:52.772007101Z",
     "start_time": "2023-10-03T11:48:52.715834853Z"
    }
   },
   "id": "ad6a8d08201cc758"
  },
  {
   "cell_type": "code",
   "execution_count": 36,
   "outputs": [
    {
     "data": {
      "text/plain": "     Gender  Married Dependents  Education Self_Employed  ApplicantIncome  \\\n442       0        0          3          0            No             4707   \n365       0        0          0          0            No             6216   \n87        0        1          0          1            No             2500   \n269       1        0          1          1            No             2876   \n132       0        0          0          1            No             2718   \n\n     CoapplicantIncome  LoanAmount  Loan_Amount_Term  Credit_History  \\\n442             1993.0       148.0             360.0             1.0   \n365                0.0       133.0             360.0             1.0   \n87              2118.0       104.0             360.0             1.0   \n269             1560.0        90.0             360.0             1.0   \n132                0.0        70.0             360.0             1.0   \n\n     Property_Area Loan_Status  \n442              1           1  \n365              0           N  \n87               1           1  \n269              2           1  \n132              1           1  ",
      "text/html": "<div>\n<style scoped>\n    .dataframe tbody tr th:only-of-type {\n        vertical-align: middle;\n    }\n\n    .dataframe tbody tr th {\n        vertical-align: top;\n    }\n\n    .dataframe thead th {\n        text-align: right;\n    }\n</style>\n<table border=\"1\" class=\"dataframe\">\n  <thead>\n    <tr style=\"text-align: right;\">\n      <th></th>\n      <th>Gender</th>\n      <th>Married</th>\n      <th>Dependents</th>\n      <th>Education</th>\n      <th>Self_Employed</th>\n      <th>ApplicantIncome</th>\n      <th>CoapplicantIncome</th>\n      <th>LoanAmount</th>\n      <th>Loan_Amount_Term</th>\n      <th>Credit_History</th>\n      <th>Property_Area</th>\n      <th>Loan_Status</th>\n    </tr>\n  </thead>\n  <tbody>\n    <tr>\n      <th>442</th>\n      <td>0</td>\n      <td>0</td>\n      <td>3</td>\n      <td>0</td>\n      <td>No</td>\n      <td>4707</td>\n      <td>1993.0</td>\n      <td>148.0</td>\n      <td>360.0</td>\n      <td>1.0</td>\n      <td>1</td>\n      <td>1</td>\n    </tr>\n    <tr>\n      <th>365</th>\n      <td>0</td>\n      <td>0</td>\n      <td>0</td>\n      <td>0</td>\n      <td>No</td>\n      <td>6216</td>\n      <td>0.0</td>\n      <td>133.0</td>\n      <td>360.0</td>\n      <td>1.0</td>\n      <td>0</td>\n      <td>N</td>\n    </tr>\n    <tr>\n      <th>87</th>\n      <td>0</td>\n      <td>1</td>\n      <td>0</td>\n      <td>1</td>\n      <td>No</td>\n      <td>2500</td>\n      <td>2118.0</td>\n      <td>104.0</td>\n      <td>360.0</td>\n      <td>1.0</td>\n      <td>1</td>\n      <td>1</td>\n    </tr>\n    <tr>\n      <th>269</th>\n      <td>1</td>\n      <td>0</td>\n      <td>1</td>\n      <td>1</td>\n      <td>No</td>\n      <td>2876</td>\n      <td>1560.0</td>\n      <td>90.0</td>\n      <td>360.0</td>\n      <td>1.0</td>\n      <td>2</td>\n      <td>1</td>\n    </tr>\n    <tr>\n      <th>132</th>\n      <td>0</td>\n      <td>0</td>\n      <td>0</td>\n      <td>1</td>\n      <td>No</td>\n      <td>2718</td>\n      <td>0.0</td>\n      <td>70.0</td>\n      <td>360.0</td>\n      <td>1.0</td>\n      <td>1</td>\n      <td>1</td>\n    </tr>\n  </tbody>\n</table>\n</div>"
     },
     "execution_count": 36,
     "metadata": {},
     "output_type": "execute_result"
    }
   ],
   "source": [
    "df.sample(5)"
   ],
   "metadata": {
    "collapsed": false,
    "ExecuteTime": {
     "end_time": "2023-10-03T11:49:37.170080064Z",
     "start_time": "2023-10-03T11:49:37.114616783Z"
    }
   },
   "id": "a17a759c76e5bb2"
  },
  {
   "cell_type": "code",
   "execution_count": null,
   "outputs": [],
   "source": [],
   "metadata": {
    "collapsed": false
   },
   "id": "bdd2e5ed86280c72"
  }
 ],
 "metadata": {
  "kernelspec": {
   "display_name": "Python 3",
   "language": "python",
   "name": "python3"
  },
  "language_info": {
   "codemirror_mode": {
    "name": "ipython",
    "version": 2
   },
   "file_extension": ".py",
   "mimetype": "text/x-python",
   "name": "python",
   "nbconvert_exporter": "python",
   "pygments_lexer": "ipython2",
   "version": "2.7.6"
  }
 },
 "nbformat": 4,
 "nbformat_minor": 5
}
