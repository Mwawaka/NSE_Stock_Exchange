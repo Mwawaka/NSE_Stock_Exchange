{
 "cells": [
  {
   "cell_type": "code",
   "execution_count": 1,
   "id": "initial_id",
   "metadata": {
    "collapsed": true,
    "ExecuteTime": {
     "end_time": "2023-10-06T14:59:29.944962889Z",
     "start_time": "2023-10-06T14:59:29.309745763Z"
    }
   },
   "outputs": [],
   "source": [
    "import pandas as pd"
   ]
  },
  {
   "cell_type": "code",
   "execution_count": 16,
   "outputs": [
    {
     "data": {
      "text/plain": "           Date  Code                               Name 12m Low 12m High  \\\n18     3-Jan-22  SCBK  Standard Chartered Bank Kenya Ltd     123   148.75   \n84     4-Jan-22  SCBK  Standard Chartered Bank Kenya Ltd     123   148.75   \n150    5-Jan-22  SCBK  Standard Chartered Bank Kenya Ltd     123   148.75   \n216    6-Jan-22  SCBK  Standard Chartered Bank Kenya Ltd     123   148.75   \n282    7-Jan-22  SCBK  Standard Chartered Bank Kenya Ltd     123   148.75   \n...         ...   ...                                ...     ...      ...   \n6420  25-May-22  SCBK  Standard Chartered Bank Kenya Ltd     121   148.75   \n6486  26-May-22  SCBK  Standard Chartered Bank Kenya Ltd     121   148.75   \n6552  27-May-22  SCBK  Standard Chartered Bank Kenya Ltd     121   148.75   \n6618  30-May-22  SCBK  Standard Chartered Bank Kenya Ltd     121   148.75   \n6684  31-May-22  SCBK  Standard Chartered Bank Kenya Ltd     121   148.75   \n\n     Day Low Day High Day Price Previous Change Change%  Volume Adjusted Price  \n18       130      131       130   128.25   1.75   1.36%   3,300              -  \n84       130      132    130.25      130   0.25   0.19%  75,300              -  \n150    129.5      130       130   130.25  -0.25   0.19%  14,500              -  \n216      130      133    130.75      130   0.75   0.58%   9,100              -  \n282      130      131     130.5   130.75  -0.25   0.19%  43,700              -  \n...      ...      ...       ...      ...    ...     ...     ...            ...  \n6420  123.75      124       124   124.25  -0.25   0.20%  78,600              -  \n6486  123.75   124.25       124      124      -       -  70,400              -  \n6552  123.75      124       124      124      -       -  40,200              -  \n6618  123.75    124.5       124      124      -       -  44,700              -  \n6684  123.75    124.5    123.75      124  -0.25   0.20%  97,400              -  \n\n[102 rows x 13 columns]",
      "text/html": "<div>\n<style scoped>\n    .dataframe tbody tr th:only-of-type {\n        vertical-align: middle;\n    }\n\n    .dataframe tbody tr th {\n        vertical-align: top;\n    }\n\n    .dataframe thead th {\n        text-align: right;\n    }\n</style>\n<table border=\"1\" class=\"dataframe\">\n  <thead>\n    <tr style=\"text-align: right;\">\n      <th></th>\n      <th>Date</th>\n      <th>Code</th>\n      <th>Name</th>\n      <th>12m Low</th>\n      <th>12m High</th>\n      <th>Day Low</th>\n      <th>Day High</th>\n      <th>Day Price</th>\n      <th>Previous</th>\n      <th>Change</th>\n      <th>Change%</th>\n      <th>Volume</th>\n      <th>Adjusted Price</th>\n    </tr>\n  </thead>\n  <tbody>\n    <tr>\n      <th>18</th>\n      <td>3-Jan-22</td>\n      <td>SCBK</td>\n      <td>Standard Chartered Bank Kenya Ltd</td>\n      <td>123</td>\n      <td>148.75</td>\n      <td>130</td>\n      <td>131</td>\n      <td>130</td>\n      <td>128.25</td>\n      <td>1.75</td>\n      <td>1.36%</td>\n      <td>3,300</td>\n      <td>-</td>\n    </tr>\n    <tr>\n      <th>84</th>\n      <td>4-Jan-22</td>\n      <td>SCBK</td>\n      <td>Standard Chartered Bank Kenya Ltd</td>\n      <td>123</td>\n      <td>148.75</td>\n      <td>130</td>\n      <td>132</td>\n      <td>130.25</td>\n      <td>130</td>\n      <td>0.25</td>\n      <td>0.19%</td>\n      <td>75,300</td>\n      <td>-</td>\n    </tr>\n    <tr>\n      <th>150</th>\n      <td>5-Jan-22</td>\n      <td>SCBK</td>\n      <td>Standard Chartered Bank Kenya Ltd</td>\n      <td>123</td>\n      <td>148.75</td>\n      <td>129.5</td>\n      <td>130</td>\n      <td>130</td>\n      <td>130.25</td>\n      <td>-0.25</td>\n      <td>0.19%</td>\n      <td>14,500</td>\n      <td>-</td>\n    </tr>\n    <tr>\n      <th>216</th>\n      <td>6-Jan-22</td>\n      <td>SCBK</td>\n      <td>Standard Chartered Bank Kenya Ltd</td>\n      <td>123</td>\n      <td>148.75</td>\n      <td>130</td>\n      <td>133</td>\n      <td>130.75</td>\n      <td>130</td>\n      <td>0.75</td>\n      <td>0.58%</td>\n      <td>9,100</td>\n      <td>-</td>\n    </tr>\n    <tr>\n      <th>282</th>\n      <td>7-Jan-22</td>\n      <td>SCBK</td>\n      <td>Standard Chartered Bank Kenya Ltd</td>\n      <td>123</td>\n      <td>148.75</td>\n      <td>130</td>\n      <td>131</td>\n      <td>130.5</td>\n      <td>130.75</td>\n      <td>-0.25</td>\n      <td>0.19%</td>\n      <td>43,700</td>\n      <td>-</td>\n    </tr>\n    <tr>\n      <th>...</th>\n      <td>...</td>\n      <td>...</td>\n      <td>...</td>\n      <td>...</td>\n      <td>...</td>\n      <td>...</td>\n      <td>...</td>\n      <td>...</td>\n      <td>...</td>\n      <td>...</td>\n      <td>...</td>\n      <td>...</td>\n      <td>...</td>\n    </tr>\n    <tr>\n      <th>6420</th>\n      <td>25-May-22</td>\n      <td>SCBK</td>\n      <td>Standard Chartered Bank Kenya Ltd</td>\n      <td>121</td>\n      <td>148.75</td>\n      <td>123.75</td>\n      <td>124</td>\n      <td>124</td>\n      <td>124.25</td>\n      <td>-0.25</td>\n      <td>0.20%</td>\n      <td>78,600</td>\n      <td>-</td>\n    </tr>\n    <tr>\n      <th>6486</th>\n      <td>26-May-22</td>\n      <td>SCBK</td>\n      <td>Standard Chartered Bank Kenya Ltd</td>\n      <td>121</td>\n      <td>148.75</td>\n      <td>123.75</td>\n      <td>124.25</td>\n      <td>124</td>\n      <td>124</td>\n      <td>-</td>\n      <td>-</td>\n      <td>70,400</td>\n      <td>-</td>\n    </tr>\n    <tr>\n      <th>6552</th>\n      <td>27-May-22</td>\n      <td>SCBK</td>\n      <td>Standard Chartered Bank Kenya Ltd</td>\n      <td>121</td>\n      <td>148.75</td>\n      <td>123.75</td>\n      <td>124</td>\n      <td>124</td>\n      <td>124</td>\n      <td>-</td>\n      <td>-</td>\n      <td>40,200</td>\n      <td>-</td>\n    </tr>\n    <tr>\n      <th>6618</th>\n      <td>30-May-22</td>\n      <td>SCBK</td>\n      <td>Standard Chartered Bank Kenya Ltd</td>\n      <td>121</td>\n      <td>148.75</td>\n      <td>123.75</td>\n      <td>124.5</td>\n      <td>124</td>\n      <td>124</td>\n      <td>-</td>\n      <td>-</td>\n      <td>44,700</td>\n      <td>-</td>\n    </tr>\n    <tr>\n      <th>6684</th>\n      <td>31-May-22</td>\n      <td>SCBK</td>\n      <td>Standard Chartered Bank Kenya Ltd</td>\n      <td>121</td>\n      <td>148.75</td>\n      <td>123.75</td>\n      <td>124.5</td>\n      <td>123.75</td>\n      <td>124</td>\n      <td>-0.25</td>\n      <td>0.20%</td>\n      <td>97,400</td>\n      <td>-</td>\n    </tr>\n  </tbody>\n</table>\n<p>102 rows × 13 columns</p>\n</div>"
     },
     "execution_count": 16,
     "metadata": {},
     "output_type": "execute_result"
    }
   ],
   "source": [
    "#NSE data was collected from 3-Jan-22 to 31-May-22\n",
    "\n",
    "#Reading the data from a CSV and creating a DataFrame \n",
    "dataframe = pd.read_csv('./data/NSE_data_all_stocks_2022_jan_to_may.csv')\n",
    "\n",
    "#Copying the data\n",
    "df = dataframe.copy()\n",
    "\n",
    "#Data contains the following features : Date, Code, Name, 12m Low, 12m High, Day Low, Day High, Day Price, Previous, Change\n",
    "#Should we create a DataFrame for each company?(Choose data for 20 companies )\n",
    "SCBK = df.loc[df.Code == 'SCBK']\n",
    "SCBK\n",
    "\n"
   ],
   "metadata": {
    "collapsed": false,
    "ExecuteTime": {
     "end_time": "2023-10-06T15:33:31.619736062Z",
     "start_time": "2023-10-06T15:33:31.529601559Z"
    }
   },
   "id": "3d60e5df6830e37"
  },
  {
   "cell_type": "code",
   "execution_count": 14,
   "outputs": [
    {
     "data": {
      "text/plain": "           Date  Code           Name 12m Low 12m High Day Low Day High  \\\n63     3-Jan-22  SCOM  Safaricom Plc   33.25    45.25    37.8    38.65   \n129    4-Jan-22  SCOM  Safaricom Plc   33.25    45.25   38.65     39.5   \n195    5-Jan-22  SCOM  Safaricom Plc   33.25    45.25      39       40   \n261    6-Jan-22  SCOM  Safaricom Plc   33.25    45.25   39.55     40.1   \n327    7-Jan-22  SCOM  Safaricom Plc   33.25    45.25    38.9       40   \n...         ...   ...            ...     ...      ...     ...      ...   \n6465  25-May-22  SCOM  Safaricom Plc    25.5    45.25    26.5       27   \n6531  26-May-22  SCOM  Safaricom Plc    25.5    45.25   26.55    27.25   \n6597  27-May-22  SCOM  Safaricom Plc    25.5    45.25    26.3       27   \n6663  30-May-22  SCOM  Safaricom Plc    25.5    45.25      26     26.8   \n6729  31-May-22  SCOM  Safaricom Plc    25.5    45.25   25.95    26.45   \n\n     Day Price Previous Change Change%      Volume Adjusted Price  \n63       38.15    37.95    0.2   0.53%   9,414,200              -  \n129      39.05    38.15    0.9   2.36%   4,115,300              -  \n195      39.55    39.05    0.5   1.28%   6,747,300              -  \n261         40    39.55   0.45   1.14%   5,136,500              -  \n327       39.9       40   -0.1   0.25%   4,576,700              -  \n...        ...      ...    ...     ...         ...            ...  \n6465     26.55    26.35    0.2   0.76%   7,833,200              -  \n6531     26.85    26.55    0.3   1.13%  15,557,000              -  \n6597     26.45    26.85   -0.4   1.49%   5,134,300              -  \n6663     26.25    26.45   -0.2   0.76%   2,565,300              -  \n6729        26    26.25  -0.25   0.95%  20,079,900              -  \n\n[102 rows x 13 columns]",
      "text/html": "<div>\n<style scoped>\n    .dataframe tbody tr th:only-of-type {\n        vertical-align: middle;\n    }\n\n    .dataframe tbody tr th {\n        vertical-align: top;\n    }\n\n    .dataframe thead th {\n        text-align: right;\n    }\n</style>\n<table border=\"1\" class=\"dataframe\">\n  <thead>\n    <tr style=\"text-align: right;\">\n      <th></th>\n      <th>Date</th>\n      <th>Code</th>\n      <th>Name</th>\n      <th>12m Low</th>\n      <th>12m High</th>\n      <th>Day Low</th>\n      <th>Day High</th>\n      <th>Day Price</th>\n      <th>Previous</th>\n      <th>Change</th>\n      <th>Change%</th>\n      <th>Volume</th>\n      <th>Adjusted Price</th>\n    </tr>\n  </thead>\n  <tbody>\n    <tr>\n      <th>63</th>\n      <td>3-Jan-22</td>\n      <td>SCOM</td>\n      <td>Safaricom Plc</td>\n      <td>33.25</td>\n      <td>45.25</td>\n      <td>37.8</td>\n      <td>38.65</td>\n      <td>38.15</td>\n      <td>37.95</td>\n      <td>0.2</td>\n      <td>0.53%</td>\n      <td>9,414,200</td>\n      <td>-</td>\n    </tr>\n    <tr>\n      <th>129</th>\n      <td>4-Jan-22</td>\n      <td>SCOM</td>\n      <td>Safaricom Plc</td>\n      <td>33.25</td>\n      <td>45.25</td>\n      <td>38.65</td>\n      <td>39.5</td>\n      <td>39.05</td>\n      <td>38.15</td>\n      <td>0.9</td>\n      <td>2.36%</td>\n      <td>4,115,300</td>\n      <td>-</td>\n    </tr>\n    <tr>\n      <th>195</th>\n      <td>5-Jan-22</td>\n      <td>SCOM</td>\n      <td>Safaricom Plc</td>\n      <td>33.25</td>\n      <td>45.25</td>\n      <td>39</td>\n      <td>40</td>\n      <td>39.55</td>\n      <td>39.05</td>\n      <td>0.5</td>\n      <td>1.28%</td>\n      <td>6,747,300</td>\n      <td>-</td>\n    </tr>\n    <tr>\n      <th>261</th>\n      <td>6-Jan-22</td>\n      <td>SCOM</td>\n      <td>Safaricom Plc</td>\n      <td>33.25</td>\n      <td>45.25</td>\n      <td>39.55</td>\n      <td>40.1</td>\n      <td>40</td>\n      <td>39.55</td>\n      <td>0.45</td>\n      <td>1.14%</td>\n      <td>5,136,500</td>\n      <td>-</td>\n    </tr>\n    <tr>\n      <th>327</th>\n      <td>7-Jan-22</td>\n      <td>SCOM</td>\n      <td>Safaricom Plc</td>\n      <td>33.25</td>\n      <td>45.25</td>\n      <td>38.9</td>\n      <td>40</td>\n      <td>39.9</td>\n      <td>40</td>\n      <td>-0.1</td>\n      <td>0.25%</td>\n      <td>4,576,700</td>\n      <td>-</td>\n    </tr>\n    <tr>\n      <th>...</th>\n      <td>...</td>\n      <td>...</td>\n      <td>...</td>\n      <td>...</td>\n      <td>...</td>\n      <td>...</td>\n      <td>...</td>\n      <td>...</td>\n      <td>...</td>\n      <td>...</td>\n      <td>...</td>\n      <td>...</td>\n      <td>...</td>\n    </tr>\n    <tr>\n      <th>6465</th>\n      <td>25-May-22</td>\n      <td>SCOM</td>\n      <td>Safaricom Plc</td>\n      <td>25.5</td>\n      <td>45.25</td>\n      <td>26.5</td>\n      <td>27</td>\n      <td>26.55</td>\n      <td>26.35</td>\n      <td>0.2</td>\n      <td>0.76%</td>\n      <td>7,833,200</td>\n      <td>-</td>\n    </tr>\n    <tr>\n      <th>6531</th>\n      <td>26-May-22</td>\n      <td>SCOM</td>\n      <td>Safaricom Plc</td>\n      <td>25.5</td>\n      <td>45.25</td>\n      <td>26.55</td>\n      <td>27.25</td>\n      <td>26.85</td>\n      <td>26.55</td>\n      <td>0.3</td>\n      <td>1.13%</td>\n      <td>15,557,000</td>\n      <td>-</td>\n    </tr>\n    <tr>\n      <th>6597</th>\n      <td>27-May-22</td>\n      <td>SCOM</td>\n      <td>Safaricom Plc</td>\n      <td>25.5</td>\n      <td>45.25</td>\n      <td>26.3</td>\n      <td>27</td>\n      <td>26.45</td>\n      <td>26.85</td>\n      <td>-0.4</td>\n      <td>1.49%</td>\n      <td>5,134,300</td>\n      <td>-</td>\n    </tr>\n    <tr>\n      <th>6663</th>\n      <td>30-May-22</td>\n      <td>SCOM</td>\n      <td>Safaricom Plc</td>\n      <td>25.5</td>\n      <td>45.25</td>\n      <td>26</td>\n      <td>26.8</td>\n      <td>26.25</td>\n      <td>26.45</td>\n      <td>-0.2</td>\n      <td>0.76%</td>\n      <td>2,565,300</td>\n      <td>-</td>\n    </tr>\n    <tr>\n      <th>6729</th>\n      <td>31-May-22</td>\n      <td>SCOM</td>\n      <td>Safaricom Plc</td>\n      <td>25.5</td>\n      <td>45.25</td>\n      <td>25.95</td>\n      <td>26.45</td>\n      <td>26</td>\n      <td>26.25</td>\n      <td>-0.25</td>\n      <td>0.95%</td>\n      <td>20,079,900</td>\n      <td>-</td>\n    </tr>\n  </tbody>\n</table>\n<p>102 rows × 13 columns</p>\n</div>"
     },
     "execution_count": 14,
     "metadata": {},
     "output_type": "execute_result"
    }
   ],
   "source": [
    "# Company names\n",
    "#ABSA\n",
    "#KPLC\n",
    "SCBK = df.loc[df.Code == 'SCBK']\n",
    "#NCBA\n",
    "NCBA = df.loc[df.Code == 'NCBA']\n",
    "#SCOM\n",
    "SCOM = df.loc[df.Code == 'SCOM']\n",
    "#\n",
    "SCBK = df.loc[df.Code == 'SCBK']\n",
    "#TOTL\n",
    "#KQ\n",
    "# CIC\n",
    "# BRIT\n",
    "# BAMB\n",
    "# COOP\n",
    "# EQTY\n",
    "# DTK\n",
    "# JUB\n",
    "# SBIC\n",
    "# NBK\n",
    "# NMG\n",
    "# KEGN\n",
    "#NSE\n",
    "# MSC\n",
    "SCOM"
   ],
   "metadata": {
    "collapsed": false,
    "ExecuteTime": {
     "end_time": "2023-10-06T15:27:40.530761674Z",
     "start_time": "2023-10-06T15:27:40.485273536Z"
    }
   },
   "id": "fe7fd1bdae2eb14a"
  }
 ],
 "metadata": {
  "kernelspec": {
   "display_name": "Python 3",
   "language": "python",
   "name": "python3"
  },
  "language_info": {
   "codemirror_mode": {
    "name": "ipython",
    "version": 2
   },
   "file_extension": ".py",
   "mimetype": "text/x-python",
   "name": "python",
   "nbconvert_exporter": "python",
   "pygments_lexer": "ipython2",
   "version": "2.7.6"
  }
 },
 "nbformat": 4,
 "nbformat_minor": 5
}
